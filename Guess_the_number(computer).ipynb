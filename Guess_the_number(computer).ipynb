{
  "nbformat": 4,
  "nbformat_minor": 0,
  "metadata": {
    "colab": {
      "provenance": [],
      "authorship_tag": "ABX9TyP6QuzNOgtA9YBuef+nYsng",
      "include_colab_link": true
    },
    "kernelspec": {
      "name": "python3",
      "display_name": "Python 3"
    },
    "language_info": {
      "name": "python"
    }
  },
  "cells": [
    {
      "cell_type": "markdown",
      "metadata": {
        "id": "view-in-github",
        "colab_type": "text"
      },
      "source": [
        "<a href=\"https://colab.research.google.com/github/areebabano/GIAIC-AI-101-Project/blob/main/Guess_the_number(computer).ipynb\" target=\"_parent\"><img src=\"https://colab.research.google.com/assets/colab-badge.svg\" alt=\"Open In Colab\"/></a>"
      ]
    },
    {
      "cell_type": "code",
      "execution_count": null,
      "metadata": {
        "colab": {
          "base_uri": "https://localhost:8080/"
        },
        "id": "JKbp7je45n7h",
        "outputId": "7d274821-2db6-4cf8-a673-c275e1c6f7d4"
      },
      "outputs": [
        {
          "output_type": "stream",
          "name": "stdout",
          "text": [
            "👋Welcome! to the 🔢 Number 😊 Guessing Game 🎮\n",
            "I've chosen a 🔢 number between 1 to 20. Can you guess it❓\n",
            "You have 3 attempts. Enter your guess number: 10\n",
            "Too low!👎 Please try again...😩\n",
            "You have 2 attempts. Enter your guess number: !\n",
            "✖ Invalid input!⚠ Please enter a number🔢...\n",
            "You have 1 attempts. Enter your guess number: 15\n",
            "Too high!👆 Please try again...😩\n",
            "🎮 Game Over! ✖ You have used all 3 attempts. The correct number 🔢 was 13.\n"
          ]
        }
      ],
      "source": [
        "import random\n",
        "\n",
        "def number_guessing_game():\n",
        "  print(\"👋Welcome! to the 🔢 Number 😊 Guessing Game 🎮\")\n",
        "  print(\"I've chosen a 🔢 number between 1 to 20. Can you guess it❓\")\n",
        "\n",
        "  secret_number = random.randint(1 , 20)\n",
        "  attempts = 3\n",
        "\n",
        "  for attempt in range(attempts):\n",
        "    try:\n",
        "      guess = int(input(f\"You have {attempts - attempt} attempts. Enter your guess number: \"))\n",
        "      if guess < secret_number:\n",
        "        print(\"Too low!👎 Please try again...😩\")\n",
        "      elif guess > secret_number:\n",
        "        print(\"Too high!👆 Please try again...😩\")\n",
        "      else:\n",
        "        print(f\"Congratulations!🚀✨ You guessed✔ the number🔢 in {attempt + 1} attempts.🌠\")\n",
        "        return\n",
        "    except ValueError:\n",
        "      print(\"✖ Invalid input!⚠ Please enter a number🔢...\")\n",
        "\n",
        "\n",
        "  # If the loop completes\n",
        "\n",
        "  if attempts == 3:\n",
        "    print(f\"🎮 Game Over! ✖ You have used all {attempts} attempts. The correct number 🔢 was {secret_number}.\")\n",
        "\n",
        "# run the game\n",
        "number_guessing_game()"
      ]
    }
  ]
}