{
  "nbformat": 4,
  "nbformat_minor": 0,
  "metadata": {
    "colab": {
      "provenance": [],
      "authorship_tag": "ABX9TyOt1uYuBpZlU54HAuq0zikn",
      "include_colab_link": true
    },
    "kernelspec": {
      "name": "python3",
      "display_name": "Python 3"
    },
    "language_info": {
      "name": "python"
    }
  },
  "cells": [
    {
      "cell_type": "markdown",
      "metadata": {
        "id": "view-in-github",
        "colab_type": "text"
      },
      "source": [
        "<a href=\"https://colab.research.google.com/github/areebabano/GIAIC-AI-101-Project/blob/main/Guess_the_number(computer).ipynb\" target=\"_parent\"><img src=\"https://colab.research.google.com/assets/colab-badge.svg\" alt=\"Open In Colab\"/></a>"
      ]
    },
    {
      "cell_type": "code",
      "execution_count": 11,
      "metadata": {
        "colab": {
          "base_uri": "https://localhost:8080/"
        },
        "id": "JKbp7je45n7h",
        "outputId": "fcc4db0b-da69-48c1-9579-b91d4bcf8ab8"
      },
      "outputs": [
        {
          "output_type": "stream",
          "name": "stdout",
          "text": [
            "Enter the maximum number🔢 for the guessing range❓: 50\n",
            "\n",
            "👋Welcome! to the 🔢 Number 😊 Guessing Game (computer) 🎮\n",
            "🚀 Think of a number between 1 and 50. I will try to guess it!\n",
            "✨After each guess, enter one of the following options:\n",
            "  🔼 'h'  →  If your number is HIGHER\n",
            "  🔽 'l'  →  If your number is LOWER\n",
            "  🎯 'c'  →  If I guessed CORRECTLY\n",
            "\n",
            "\n",
            "Is your 🔢 number 38 ❓\n",
            "\n",
            "Enter 'h', 'l', or 'c': l\n",
            "\n",
            "Is your 🔢 number 13 ❓\n",
            "\n",
            "Enter 'h', 'l', or 'c': l\n",
            "\n",
            "Is your 🔢 number 2 ❓\n",
            "\n",
            "Enter 'h', 'l', or 'c': c\n",
            "\n",
            "🌠 Yay!🚀 I guessed your number🔢 2 correctly! 🎯\n",
            "\n"
          ]
        }
      ],
      "source": [
        "import random\n",
        "\n",
        "def computer_guess(x):\n",
        "    low, high = 1 , x\n",
        "    feedback = \"\"\n",
        "\n",
        "    print(\"\\n👋Welcome! to the 🔢 Number 😊 Guessing Game (computer) 🎮\")\n",
        "    print(f\"🚀 Think of a number between 1 and {x}. I will try to guess it!\")\n",
        "    print(\"✨ After each guess, enter one of the following options:\")\n",
        "    print(\"  🔼 'h'  →  If your number is HIGHER\")\n",
        "    print(\"  🔽 'l'  →  If your number is LOWER\")\n",
        "    print(\"  🎯 'c'  →  If I guessed CORRECTLY\\n\")\n",
        "\n",
        "    while feedback != \"c\":\n",
        "          if low > high:\n",
        "             print(\"⚠️ Hmm... Something went wrong✖ Are you sure about your inputs? ☹\")\n",
        "             break\n",
        "\n",
        "          guess = random.randint(low , high)\n",
        "          print(f\"\\nIs your 🔢 number {guess} ❓\\n\")\n",
        "          feedback = input(\"Enter 'h', 'l', or 'c': \").strip().lower()\n",
        "\n",
        "          if feedback == \"h\":\n",
        "             low = guess + 1\n",
        "          elif feedback == \"l\":\n",
        "               high = guess - 1\n",
        "          elif feedback == \"c\":\n",
        "               print(f\"\\n🌠 Yay!🚀 I guessed your number🔢 {guess} correctly! 🎯\\n\")\n",
        "          else:\n",
        "            print(\"⚠️ Invalid input!✖ Please enter 'h' for higher🔼, 'l' for lower🔽, or 'c' for correct🎯.\")\n",
        "\n",
        "max_range = int(input(\"Enter the maximum number🔢 for the guessing range❓: \"))\n",
        "computer_guess(max_range)\n"
      ]
    }
  ]
}