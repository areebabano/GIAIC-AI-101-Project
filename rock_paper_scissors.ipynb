{
  "nbformat": 4,
  "nbformat_minor": 0,
  "metadata": {
    "colab": {
      "provenance": [],
      "authorship_tag": "ABX9TyPlpIIH7VoB75d2tubMVDo5",
      "include_colab_link": true
    },
    "kernelspec": {
      "name": "python3",
      "display_name": "Python 3"
    },
    "language_info": {
      "name": "python"
    }
  },
  "cells": [
    {
      "cell_type": "markdown",
      "metadata": {
        "id": "view-in-github",
        "colab_type": "text"
      },
      "source": [
        "<a href=\"https://colab.research.google.com/github/areebabano/GIAIC-AI-101-Project/blob/main/rock_paper_scissors.ipynb\" target=\"_parent\"><img src=\"https://colab.research.google.com/assets/colab-badge.svg\" alt=\"Open In Colab\"/></a>"
      ]
    },
    {
      "cell_type": "code",
      "execution_count": 12,
      "metadata": {
        "colab": {
          "base_uri": "https://localhost:8080/"
        },
        "id": "TOc5DaZ9NfSw",
        "outputId": "339c090f-d4b2-4ea0-df79-84cc51d3dc18"
      },
      "outputs": [
        {
          "output_type": "stream",
          "name": "stdout",
          "text": [
            "👋Welcome To The Rock 👆, Paper 📜, Scissors ✂ Game 🎮\n",
            "\n",
            "Choose rock, paper, or scissors: rock\n",
            "\n",
            "You Choose: rock\n",
            "Computer Choose: rock\n",
            "\n",
            "Its a tie!🌠\n",
            "\n",
            "Do you want to play again? (yes/no): yes\n",
            "\n",
            "Choose rock, paper, or scissors: paper\n",
            "\n",
            "You Choose: paper\n",
            "Computer Choose: rock\n",
            "\n",
            "Congratulations! ✨ You win 🚀\n",
            "\n",
            "Do you want to play again? (yes/no): no\n",
            "Thanks for Playing🎮\n"
          ]
        }
      ],
      "source": [
        "import random\n",
        "\n",
        "choices = [\"rock\", \"paper\", \"scissors\"]\n",
        "\n",
        "# computer choice\n",
        "def get_computer_choice():\n",
        "    return random.choice(choices)\n",
        "\n",
        "# user choice\n",
        "def get_user_choice():\n",
        "    while True:\n",
        "      user_input = input(\"\\nChoose rock, paper, or scissors: \").lower()\n",
        "      if user_input in choices:\n",
        "         return user_input\n",
        "      print(\"⚠Invalid choice! Try Again👎\")\n",
        "\n",
        "# determine winner\n",
        "def determine_winner(player , opponent):\n",
        "    if player == opponent:\n",
        "       return \"Its a tie!🌠\"\n",
        "    elif (player == \"rock\" and opponent == \"scissors\") or \\\n",
        "         (player == \"scissors\" and opponent == \"paper\") or \\\n",
        "         (player == \"paper\" and opponent == \"rock\"):\n",
        "        return \"Congratulations! ✨ You win 🚀\"\n",
        "    else:\n",
        "      return \"Computer win! 🌠 You lost👎\"\n",
        "\n",
        "# start game\n",
        "def play_game():\n",
        "    print(\"👋Welcome To The Rock 👆, Paper 📜, Scissors ✂ Game 🎮\")\n",
        "    while True:\n",
        "          player_choice = get_user_choice()\n",
        "          opponent_choice = get_computer_choice()\n",
        "          print(f\"\\nYou Choose: {player_choice}\")\n",
        "          print(f\"Computer Choose: {opponent_choice}\\n\")\n",
        "          print(determine_winner(player_choice, opponent_choice))\n",
        "\n",
        "          play_again = input(\"\\nDo you want to play again? (yes/no): \").lower()\n",
        "          if play_again != \"yes\":\n",
        "             print(\"Thanks for Playing🎮\")\n",
        "             break\n",
        "\n",
        "if __name__ == \"__main__\":\n",
        "    play_game()\n",
        "\n",
        "\n",
        "\n"
      ]
    }
  ]
}