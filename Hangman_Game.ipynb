{
  "nbformat": 4,
  "nbformat_minor": 0,
  "metadata": {
    "colab": {
      "provenance": [],
      "authorship_tag": "ABX9TyNOs8bJmDx8D4kpnS4EEUFo",
      "include_colab_link": true
    },
    "kernelspec": {
      "name": "python3",
      "display_name": "Python 3"
    },
    "language_info": {
      "name": "python"
    }
  },
  "cells": [
    {
      "cell_type": "markdown",
      "metadata": {
        "id": "view-in-github",
        "colab_type": "text"
      },
      "source": [
        "<a href=\"https://colab.research.google.com/github/areebabano/GIAIC-AI-101-Project/blob/main/Hangman_Game.ipynb\" target=\"_parent\"><img src=\"https://colab.research.google.com/assets/colab-badge.svg\" alt=\"Open In Colab\"/></a>"
      ]
    },
    {
      "cell_type": "code",
      "execution_count": 14,
      "metadata": {
        "colab": {
          "base_uri": "https://localhost:8080/"
        },
        "id": "umXG6Oi7XV2T",
        "outputId": "7f3ccea8-ba2d-4f9e-9782-ee15ff91da37"
      },
      "outputs": [
        {
          "output_type": "stream",
          "name": "stdout",
          "text": [
            "👋🌠 Welcome To Hangman Game 🎮\n",
            "\n",
            "_ _ _ _ _ _ _\n",
            "\n",
            "Guess a letter 🔤: h\n",
            "Correct! ✔\n",
            "h _ _ _ _ _ _\n",
            "\n",
            "Guess a letter 🔤: h\n",
            "✔ You've already guessed that letter 🔤.\n",
            "\n",
            "Guess a letter 🔤: a\n",
            "Correct! ✔\n",
            "h a _ _ _ a _\n",
            "\n",
            "Guess a letter 🔤: a\n",
            "✔ You've already guessed that letter 🔤.\n",
            "\n",
            "Guess a letter 🔤: n\n",
            "Correct! ✔\n",
            "h a n _ _ a n\n",
            "\n",
            "Guess a letter 🔤: g\n",
            "Correct! ✔\n",
            "h a n g _ a n\n",
            "\n",
            "Guess a letter 🔤: m\n",
            "Correct! ✔\n",
            "h a n g m a n\n",
            "\n",
            "🎉🚀 Congratulations! 🌠 You guessed the word 🔤: hangman\n"
          ]
        }
      ],
      "source": [
        "import random\n",
        "\n",
        "words = [\"developer\", \"coding\", \"python\", \"challenge\", \"hangman\"]\n",
        "\n",
        "word = random.choice(words)\n",
        "attempt = 6\n",
        "display_word = [\"_\"] * len(word)\n",
        "guessed_letters = set()\n",
        "\n",
        "print(\"👋🌠 Welcome To Hangman Game 🎮\\n\")\n",
        "print(\" \".join(display_word))\n",
        "\n",
        "# loop\n",
        "while attempt > 0 and \"_\" in display_word:\n",
        "  guess = input(\"\\nGuess a letter 🔤: \").lower()\n",
        "\n",
        "  # check input is valid or not\n",
        "  if len(guess) != 1:\n",
        "    print(\"✖ Please enter a single letter 🔤\")\n",
        "  elif not guess.isalpha():\n",
        "    print(\"Invalid input ⚠\")\n",
        "    continue\n",
        "\n",
        "  # check letter has already guessed\n",
        "  if guess in guessed_letters:\n",
        "    print(\"✔ You've already guessed that letter 🔤.\")\n",
        "    continue\n",
        "\n",
        "  # add guess letter to set\n",
        "  guessed_letters.add(guess)\n",
        "\n",
        "  # check if guess is correct\n",
        "  if guess in word:\n",
        "    for i, letter in enumerate(word):\n",
        "      if letter == guess:\n",
        "        display_word[i] = guess\n",
        "    print(\"Correct! ✔\")\n",
        "  else:\n",
        "    attempt -= 1\n",
        "    print(f\"Wrong! ✖ Only {attempt} left!\")\n",
        "\n",
        "  # display updated word\n",
        "  print(\" \".join(display_word))\n",
        "\n",
        "# check player won or lost\n",
        "if \"_\" not in display_word:\n",
        "  print(\"\\n🎉🚀 Congratulations! 🌠 You guessed the word 🔤:\", word)\n",
        "else:\n",
        "  print(\"\\n😢 Game Over! You lost👎🏻 The word was:\", word)"
      ]
    }
  ]
}