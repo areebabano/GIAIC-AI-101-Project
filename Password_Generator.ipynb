{
  "nbformat": 4,
  "nbformat_minor": 0,
  "metadata": {
    "colab": {
      "provenance": [],
      "authorship_tag": "ABX9TyMPkhAFDGtUS73SB3CpUKPK",
      "include_colab_link": true
    },
    "kernelspec": {
      "name": "python3",
      "display_name": "Python 3"
    },
    "language_info": {
      "name": "python"
    }
  },
  "cells": [
    {
      "cell_type": "markdown",
      "metadata": {
        "id": "view-in-github",
        "colab_type": "text"
      },
      "source": [
        "<a href=\"https://colab.research.google.com/github/areebabano/GIAIC-AI-101-Project/blob/main/Password_Generator.ipynb\" target=\"_parent\"><img src=\"https://colab.research.google.com/assets/colab-badge.svg\" alt=\"Open In Colab\"/></a>"
      ]
    },
    {
      "cell_type": "code",
      "execution_count": 4,
      "metadata": {
        "colab": {
          "base_uri": "https://localhost:8080/"
        },
        "id": "dHrJXrkzJA8X",
        "outputId": "8008942a-ce49-4c6d-9adf-f00ff8822d7e"
      },
      "outputs": [
        {
          "output_type": "stream",
          "name": "stdout",
          "text": [
            "\n",
            "🎮 Welcome to the Ultimate Password Generator Game! 🔐🎮\n",
            "\n",
            "💡 Generate a strong and 🔐secure password in seconds!\n",
            "\n",
            "👉 Enter desired password length (minimum 6): 4\n",
            "\n",
            "❌ Password length should be at least 6. Try again!\n",
            "\n",
            "👉 Enter desired password length (minimum 6): 8\n",
            "\n",
            "🎉 Your 🔐Secure Password is Ready! 🎉\n",
            "🔑 Generated Password:🔐 (bRlV7sI\n",
            "\n",
            "✔ Keep it safe and ✖don't share it with anyone!\n",
            "\n",
            "🔄 Generate another password🔒❓ (yes/no): yes\n",
            "👉 Enter desired password length (minimum 6): 6\n",
            "\n",
            "🎉 Your 🔐Secure Password is Ready! 🎉\n",
            "🔑 Generated Password:🔐 -fF;3l\n",
            "\n",
            "✔ Keep it safe and ✖don't share it with anyone!\n",
            "\n",
            "🔄 Generate another password🔒❓ (yes/no): no\n",
            "\n",
            "👋 Thanks for using the 🌠Password Generator! Stay secure. 🔐\n"
          ]
        }
      ],
      "source": [
        "import random\n",
        "import string\n",
        "\n",
        "def generate_password(length = 12):\n",
        "\n",
        "  # Define characters sets\n",
        "  uppercase_letters = string.ascii_uppercase\n",
        "  lowercase_letters = string.ascii_lowercase\n",
        "  digits = string.digits\n",
        "  special_chars = string.punctuation\n",
        "\n",
        "  characters = uppercase_letters + lowercase_letters + digits + special_chars\n",
        "\n",
        "  password = (\n",
        "      random.choice(uppercase_letters) +\n",
        "      random.choice(lowercase_letters) +\n",
        "      random.choice(digits) +\n",
        "      random.choice(special_chars)\n",
        "  )\n",
        "\n",
        "  password += ''.join(random.choices(characters, k = length - 4))\n",
        "\n",
        "  password = ''.join(random.sample(password, len(password)))\n",
        "\n",
        "  return password\n",
        "\n",
        "def password_generator_game():\n",
        "\n",
        "  print(\"\\n🎮 Welcome to the Ultimate Password Generator Game! 🔐🎮\\n\")\n",
        "  print(\"💡 Generate a strong and 🔐secure password in seconds!\\n\")\n",
        "\n",
        "  while True:\n",
        "    try:\n",
        "      user_input = int(input(\"👉 Enter desired password length (minimum 6): \"))\n",
        "\n",
        "      if user_input < 6:\n",
        "        print(\"\\n❌ Password length should be at least 6. Try again!\\n\")\n",
        "        continue\n",
        "\n",
        "      password = generate_password(user_input)\n",
        "\n",
        "      print(\"\\n🎉 Your 🔐Secure Password is Ready! 🎉\")\n",
        "      print(f\"🔑 Generated Password:🔐 {password}\")\n",
        "      print(\"\\n✔ Keep it safe and ✖don't share it with anyone!\\n\")\n",
        "\n",
        "\n",
        "      again_user_input = input(\"🔄 Generate another password🔒❓ (yes/no): \").strip().lower()\n",
        "\n",
        "      if again_user_input != \"yes\":\n",
        "        print(\"\\n👋 Thanks for using the 🌠Password Generator! Stay secure. 🔐\")\n",
        "        break\n",
        "\n",
        "    except ValueError:\n",
        "      print(\"\\n❌ Invalid input! Please enter a number🔢.\\n\")\n",
        "\n",
        "password_generator_game()\n",
        "\n",
        "\n"
      ]
    }
  ]
}