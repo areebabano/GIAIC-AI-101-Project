{
  "cells": [
    {
      "cell_type": "markdown",
      "metadata": {
        "id": "view-in-github",
        "colab_type": "text"
      },
      "source": [
        "<a href=\"https://colab.research.google.com/github/areebabano/GIAIC-AI-101-Project/blob/main/Mad_Lib_Game.ipynb\" target=\"_parent\"><img src=\"https://colab.research.google.com/assets/colab-badge.svg\" alt=\"Open In Colab\"/></a>"
      ]
    },
    {
      "cell_type": "code",
      "execution_count": 2,
      "metadata": {
        "colab": {
          "base_uri": "https://localhost:8080/"
        },
        "id": "PAQQgzgBiul8",
        "outputId": "428eca55-2e23-42f7-fd6b-b882ea62486f"
      },
      "outputs": [
        {
          "output_type": "stream",
          "name": "stdout",
          "text": [
            "🔥🌠 Welcome to 'From Failure to Success✨🚀' - A Motivational Mad Libs Game! 💗🔥\n",
            "\n",
            "Enter your name: Areeba\n",
            "What is your passion? (e.g., 'coding', 'art', 'business'): coding\n",
            "What is your biggest dream? (e.g., 'start a company', 'become a software engineer'): become a software engineer\n",
            "What challenge did you face? (e.g., 'debugging errors', 'lack of resources'): understanding algorithms \n",
            "What kept you going? (e.g., 'family', 'self-belief', 'mentor’s support'): family and mentors support\n",
            "Enter the name of a teacher or mentor who motivated you: Sir Bilal\n",
            "What lesson did Sir Bilal teach you? (e.g., 'never give up', 'work hard with patience'): work hard with patience\n",
            "What did you finally achieve? (e.g., 'built my first app', 'got my dream job'): built my first app\n",
            "\n",
            "Crafting your success story...\n",
            "\n",
            "\n",
            "    🌠Once, there was a dreamer named Areeba, passionate about coding. They dreamed🚀 of become a software engineer,\n",
            "    but the road was not easy.⚠ understanding algorithms  made it seem impossible, and doubt crept in.😞💭\n",
            "\n",
            "    But Areeba refused to give up.💪 A great mentor, Sir Bilal, always said, **\"work hard with patience.\"**\n",
            "    Fueled by family and mentors support, Areeba❤️‍🔥 kept learning, growing, and pushing forward.🚀\n",
            "\n",
            "    After countless struggles, the breakthrough came—built my first app!🎯🏆\n",
            "\n",
            "    Today, Areeba stands as proof that failure is never final—unless you quit. Every challenge is just a step\n",
            "    towards greatness.\n",
            "\n",
            "    💭**Dream big. Face challenges. Rise stronger. Never quit! 🚀🔥**\n",
            "    \n",
            "🌠✨Keep pushing forward—one day, your story will inspire millions! 🚀💡\n"
          ]
        }
      ],
      "source": [
        "import time\n",
        "\n",
        "def mad_libs():\n",
        "    print(\"🔥🌠 Welcome to 'From Failure to Success✨🚀' - A Motivational Mad Libs Game! 💗🔥\\n\")\n",
        "\n",
        "    # Getting user input\n",
        "    name = input(\"Enter your name: \")\n",
        "    passion = input(\"What is your passion? (e.g., 'coding', 'art', 'business'): \")\n",
        "    dream = input(\"What is your biggest dream? (e.g., 'start a company', 'become a software engineer'): \")\n",
        "    challenge = input(\"What challenge did you face? (e.g., 'debugging errors', 'lack of resources'): \")\n",
        "    motivation = input(\"What kept you going? (e.g., 'family', 'self-belief', 'mentor’s support'): \")\n",
        "    teacher_name = input(\"Enter the name of a teacher or mentor who motivated you: \")\n",
        "    lesson = input(f\"What lesson did {teacher_name} teach you? (e.g., 'never give up', 'work hard with patience'): \")\n",
        "    success = input(\"What did you finally achieve? (e.g., 'built my first app', 'got my dream job'): \")\n",
        "\n",
        "    print(\"\\nCrafting your success story...\\n\")\n",
        "    time.sleep(2)  # Adding suspense effect\n",
        "\n",
        "    # Story\n",
        "    story = f\"\"\"\n",
        "    🌠Once, there was a dreamer named {name}, passionate about {passion}. They dreamed🚀 of {dream},\n",
        "    but the road was not easy.⚠ {challenge} made it seem impossible, and doubt crept in.😞💭\n",
        "\n",
        "    But {name} refused to give up.💪 A great mentor, {teacher_name}, always said, **\"{lesson}.\"**\n",
        "    Fueled by {motivation}, {name}❤️‍🔥 kept learning, growing, and pushing forward.🚀\n",
        "\n",
        "    After countless struggles, the breakthrough came—{success}!🎯🏆\n",
        "\n",
        "    Today, {name} stands as proof that failure is never final—unless you quit. Every challenge is just a step\n",
        "    towards greatness.\n",
        "\n",
        "    💭**Dream big. Face challenges. Rise stronger. Never quit! 🚀🔥**\n",
        "    \"\"\"\n",
        "\n",
        "    print(story)\n",
        "    print(\"🌠✨Keep pushing forward—one day, your story will inspire millions! 🚀💡\")\n",
        "\n",
        "# Run the Mad Libs game\n",
        "mad_libs()\n"
      ]
    }
  ],
  "metadata": {
    "colab": {
      "provenance": [],
      "authorship_tag": "ABX9TyOHJobwMZjgmFkS433Em/eP",
      "include_colab_link": true
    },
    "kernelspec": {
      "display_name": "Python 3",
      "name": "python3"
    },
    "language_info": {
      "name": "python"
    }
  },
  "nbformat": 4,
  "nbformat_minor": 0
}