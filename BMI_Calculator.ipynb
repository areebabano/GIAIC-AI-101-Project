{
  "nbformat": 4,
  "nbformat_minor": 0,
  "metadata": {
    "colab": {
      "provenance": [],
      "authorship_tag": "ABX9TyM5h3xrXAc7bJA0BVwSgyD3",
      "include_colab_link": true
    },
    "kernelspec": {
      "name": "python3",
      "display_name": "Python 3"
    },
    "language_info": {
      "name": "python"
    }
  },
  "cells": [
    {
      "cell_type": "markdown",
      "metadata": {
        "id": "view-in-github",
        "colab_type": "text"
      },
      "source": [
        "<a href=\"https://colab.research.google.com/github/areebabano/GIAIC-AI-101-Project/blob/main/BMI_Calculator.ipynb\" target=\"_parent\"><img src=\"https://colab.research.google.com/assets/colab-badge.svg\" alt=\"Open In Colab\"/></a>"
      ]
    },
    {
      "cell_type": "code",
      "execution_count": null,
      "metadata": {
        "id": "AwRe5GqWpe1O"
      },
      "outputs": [],
      "source": [
        "import streamlit as st\n",
        "\n",
        "def calc_bmi(weight, height):\n",
        "  bmi = weight / (height ** 2)\n",
        "  return bmi\n",
        "\n",
        "def get_bmi_category(bmi):\n",
        "  if bmi < 18.5:\n",
        "    return \"Underweight\", \"⚠️ You may need to gain some weight.\"\n",
        "  elif 18.5 <= bmi < 24.9:\n",
        "    return \"Normal Weight\", \"✔ Great! Maintain your healthy lifestyle✨☺.\"\n",
        "  elif 25 <= bmi < 29.9:\n",
        "    return \"Overweight\", \"⚠️ Consider a healthier diet and exercise.\"\n",
        "  else:\n",
        "    return \"Obese\", \"⚠️ It's important to adopt a healthier lifestyle.\"\n",
        "\n",
        "# Streamlit UI\n",
        "st.set_page_config(page_title=\"BMI Calculator\", page_icon=\"📏\", layout=\"centered\")\n",
        "\n",
        "st.title(\"🌟 ---------BMI Calculator------- 🌟\")\n",
        "st.write(\"Calculate Your Body Mass Index (BMI) and gain insights into your health.💗🌌\")\n",
        "\n",
        "with st.container():\n",
        "  st.write(\"Enter your details below:\")\n",
        "  weight = st.number_input(\"Weight (kg): \", min_value = 1.0, step = 0.1, format = \"%.1f\")\n",
        "  height = st.number_input(\"Height (m): \", min_value = 0.1, step = 0.01, format = \"%.2f\")\n",
        "\n",
        "if st.button(\"Calculate BMI\", use_container_width = True):\n",
        "  if weight > 0 and height > 0:\n",
        "    bmi = calc_bmi(weight, height)\n",
        "    category, advice = get_bmi_category(bmi)\n",
        "    st.success(f\"🌌 Your BMI is **{bmi:.2f}** ({category})\")\n",
        "    st.info(advice)\n",
        "  else:\n",
        "    st.warning(\"🚨 Please enter valid weight and height values.\")\n",
        "\n",
        "st.markdown(\"---\")\n",
        "st.write(\"💡 **Tip:** Maintain a balanced diet and regular exercise for a healthy BMI! ☺✨\")"
      ]
    },
    {
      "cell_type": "markdown",
      "source": [
        "🔗 [Streamlit BMI Calculator](https://bmicalc-x3bn9m65rwwsspevqom8zp.streamlit.app/)\n"
      ],
      "metadata": {
        "id": "aeY8fX3OpjS7"
      }
    }
  ]
}