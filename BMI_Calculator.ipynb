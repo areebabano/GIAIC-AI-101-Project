{
  "nbformat": 4,
  "nbformat_minor": 0,
  "metadata": {
    "colab": {
      "provenance": [],
      "authorship_tag": "ABX9TyOtDdSovm0wYn3mcy9623Gy",
      "include_colab_link": true
    },
    "kernelspec": {
      "name": "python3",
      "display_name": "Python 3"
    },
    "language_info": {
      "name": "python"
    }
  },
  "cells": [
    {
      "cell_type": "markdown",
      "metadata": {
        "id": "view-in-github",
        "colab_type": "text"
      },
      "source": [
        "<a href=\"https://colab.research.google.com/github/areebabano/GIAIC-AI-101-Project/blob/main/BMI_Calculator.ipynb\" target=\"_parent\"><img src=\"https://colab.research.google.com/assets/colab-badge.svg\" alt=\"Open In Colab\"/></a>"
      ]
    },
    {
      "cell_type": "code",
      "execution_count": null,
      "metadata": {
        "id": "aFNkeGSTQA95"
      },
      "outputs": [],
      "source": [
        "import streamlit as st\n",
        "\n",
        "def calc_bmi(weight, height):\n",
        "  bmi = weight / (height ** 2)\n",
        "  return bmi\n",
        "\n",
        "def get_bmi_category(bmi):\n",
        "  if bmi < 18.5:\n",
        "    return \"Underweight\", \"⚠️ You may need to gain some weight.\"\n",
        "  elif 18.5 <= bmi < 24.9:\n",
        "    return \"Normal Weight\", \"✔ Great! Maintain your healthy lifestyle✨☺.\"\n",
        "  elif 25 <= bmi < 29.9:\n",
        "    return \"Overweight\", \"⚠️ Consider a healthier diet and exercise.\"\n",
        "  else:\n",
        "    return \"Obese\", \"⚠️ It's important to adopt a healthier lifestyle.\"\n",
        "\n",
        "# Streamlit UI\n",
        "st.set_page_config(page_title=\"BMI Calculator\", page_icon=\"📏\", layout=\"centered\")\n",
        "\n",
        "st.title(\"🌟 ---------BMI Calculator------- 🌟\")\n",
        "st.write(\"Calculate Your Body Mass Index (BMI) and gain insights into your health.💗🌌\")\n",
        "\n",
        "with st.container():\n",
        "  st.write(\"Enter your details below:\")\n",
        "  weight = st.number_input(\"Weight (kg): \", min_value = 1.0, step = 0.1, format = \"%.1f\")\n",
        "  height = st.number_input(\"Height (m): \", min_value = 0.1, step = 0.01, format = \"%.2f\")\n",
        "\n",
        "if st.button(\"Calculate BMI\", use_container_width = True):\n",
        "  if weight > 0 and height > 0:\n",
        "    bmi = calc_bmi(weight, height)\n",
        "    category, advice = get_bmi_category(bmi)\n",
        "    st.success(f\"🌌 Your BMI is **{bmi:.2f}** ({category})\")\n",
        "    st.info(advice)\n",
        "  else:\n",
        "    st.warning(\"🚨 Please enter valid weight and height values.\")\n",
        "\n",
        "st.markdown(\"---\")\n",
        "st.write(\"💡 **Tip:** Maintain a balanced diet and regular exercise for a healthy BMI! ☺✨\")"
      ]
    },
    {
      "cell_type": "code",
      "source": [
        "\n",
        "!streamlit run app.py & npx localtunnel --port 8501\n"
      ],
      "metadata": {
        "colab": {
          "base_uri": "https://localhost:8080/"
        },
        "id": "x4NxNCR5dcGW",
        "outputId": "b426663e-e3ff-412e-b459-a97fa1c5b2fd"
      },
      "execution_count": null,
      "outputs": [
        {
          "output_type": "stream",
          "name": "stdout",
          "text": [
            "\n",
            "Collecting usage statistics. To deactivate, set browser.gatherUsageStats to false.\n",
            "\u001b[0m\n",
            "\u001b[0m\n",
            "\u001b[34m\u001b[1m  You can now view your Streamlit app in your browser.\u001b[0m\n",
            "\u001b[0m\n",
            "\u001b[34m  Local URL: \u001b[0m\u001b[1mhttp://localhost:8501\u001b[0m\n",
            "\u001b[34m  Network URL: \u001b[0m\u001b[1mhttp://172.28.0.12:8501\u001b[0m\n",
            "\u001b[34m  External URL: \u001b[0m\u001b[1mhttp://35.237.159.43:8501\u001b[0m\n",
            "\u001b[0m\n",
            "your url is: https://open-plants-appear.loca.lt\n"
          ]
        }
      ]
    }
  ]
}