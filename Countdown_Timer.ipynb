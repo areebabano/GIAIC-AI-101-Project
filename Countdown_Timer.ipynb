{
  "nbformat": 4,
  "nbformat_minor": 0,
  "metadata": {
    "colab": {
      "provenance": [],
      "authorship_tag": "ABX9TyOOyY/y6tWWRqlh6pkT+ijH",
      "include_colab_link": true
    },
    "kernelspec": {
      "name": "python3",
      "display_name": "Python 3"
    },
    "language_info": {
      "name": "python"
    }
  },
  "cells": [
    {
      "cell_type": "markdown",
      "metadata": {
        "id": "view-in-github",
        "colab_type": "text"
      },
      "source": [
        "<a href=\"https://colab.research.google.com/github/areebabano/GIAIC-AI-101-Project/blob/main/Countdown_Timer.ipynb\" target=\"_parent\"><img src=\"https://colab.research.google.com/assets/colab-badge.svg\" alt=\"Open In Colab\"/></a>"
      ]
    },
    {
      "cell_type": "code",
      "execution_count": 24,
      "metadata": {
        "colab": {
          "base_uri": "https://localhost:8080/"
        },
        "id": "tWDIAzh8x5OD",
        "outputId": "4050db98-1d12-4478-c691-22b324814666"
      },
      "outputs": [
        {
          "output_type": "stream",
          "name": "stdout",
          "text": [
            "-----------------*****************-------------------\n",
            "\n",
            "-----------👋🚀Welome To The CountDown ⌛ Timer!🌠------------\n",
            "\n",
            "-----------------*****************-------------------\n",
            "\n",
            "✨ Enter a countdown ⌛ time in seconds: 10\n",
            " ⏳ 00:00 🔢\n",
            " 🔔 Time's Up!⌛\n"
          ]
        }
      ],
      "source": [
        "import time\n",
        "\n",
        "print(\"-----------------*****************-------------------\\n\")\n",
        "print(\"-----------👋🚀Welome To The CountDown ⌛ Timer!🌠------------\")\n",
        "print(\"\\n-----------------*****************-------------------\\n\")\n",
        "\n",
        "def countdown_timer(seconds):\n",
        "   while seconds >= 0:\n",
        "     mins, secs = divmod(seconds, 60)\n",
        "     timer = f\"{mins:02d}:{secs:02d}\" # time format MM:SS\n",
        "     print(f\"\\r ⏳ {timer} 🔢\", end=\"\")\n",
        "     time.sleep(1) # delay\n",
        "     seconds -= 1\n",
        "   print(\"\\n 🔔 Time's Up!⌛\")\n",
        "\n",
        "try:\n",
        "   user_input = int(input(\"✨ Enter a countdown ⌛ time in seconds: \"))\n",
        "   if user_input > 0:\n",
        "     countdown_timer(user_input)\n",
        "   else:\n",
        "      print(\"✖ Please Enter a positive number! 🔢\")\n",
        "except ValueError:\n",
        "      print(\"✖ Please enter a valid inputs ⚠\")"
      ]
    }
  ]
}