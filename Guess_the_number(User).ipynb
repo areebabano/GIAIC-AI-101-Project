{
  "nbformat": 4,
  "nbformat_minor": 0,
  "metadata": {
    "colab": {
      "provenance": [],
      "authorship_tag": "ABX9TyNKjP2V1yfk1xrjf157iv6e",
      "include_colab_link": true
    },
    "kernelspec": {
      "name": "python3",
      "display_name": "Python 3"
    },
    "language_info": {
      "name": "python"
    }
  },
  "cells": [
    {
      "cell_type": "markdown",
      "metadata": {
        "id": "view-in-github",
        "colab_type": "text"
      },
      "source": [
        "<a href=\"https://colab.research.google.com/github/areebabano/GIAIC-AI-101-Project/blob/main/Guess_the_number(User).ipynb\" target=\"_parent\"><img src=\"https://colab.research.google.com/assets/colab-badge.svg\" alt=\"Open In Colab\"/></a>"
      ]
    },
    {
      "cell_type": "code",
      "execution_count": null,
      "metadata": {
        "id": "F_-32GelPQLr"
      },
      "outputs": [],
      "source": [
        "import random\n",
        "\n",
        "def number_guessing_game():\n",
        "  print(\"👋Welcome! to the 🔢 Number 😊 Guessing Game (computer) 🎮\")\n",
        "  print(\"I've chosen a 🔢 number between 1 to 20. Can you guess it❓\")\n",
        "\n",
        "  secret_number = random.randint(1 , 20)\n",
        "  attempts = 3\n",
        "\n",
        "  for attempt in range(attempts):\n",
        "    try:\n",
        "      guess = int(input(f\"You have {attempts - attempt} attempts. Enter your guess number: \"))\n",
        "      if guess < secret_number:\n",
        "        print(\"Too low!👎 Please try again...😩\")\n",
        "      elif guess > secret_number:\n",
        "        print(\"Too high!👆 Please try again...😩\")\n",
        "      else:\n",
        "        print(f\"Congratulations!🚀✨ You guessed✔ the number🔢 in {attempt + 1} attempts.🌠\")\n",
        "        return\n",
        "    except ValueError:\n",
        "      print(\"✖ Invalid input!⚠ Please enter a number🔢...\")\n",
        "\n",
        "\n",
        "  # If the loop completes\n",
        "\n",
        "  if attempts == 3:\n",
        "    print(f\"🎮 Game Over! ✖ You have used all {attempts} attempts. The correct number 🔢 was {secret_number}.\")\n",
        "\n",
        "# run the game\n",
        "number_guessing_game()"
      ]
    }
  ]
}